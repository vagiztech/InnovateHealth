{
  "cells": [
    {
      "cell_type": "markdown",
      "metadata": {
        "id": "view-in-github",
        "colab_type": "text"
      },
      "source": [
        "<a href=\"https://colab.research.google.com/github/vagiztech/InnovateHealth/blob/main/InnovateHealth.ipynb\" target=\"_parent\"><img src=\"https://colab.research.google.com/assets/colab-badge.svg\" alt=\"Open In Colab\"/></a>"
      ]
    },
    {
      "cell_type": "code",
      "execution_count": null,
      "metadata": {
        "id": "Zjv5jwjyJb25"
      },
      "outputs": [],
      "source": [
        "import os\n",
        "import torch\n",
        "import torchvision\n",
        "import torchvision.transforms as transforms\n",
        "from torchvision import models\n",
        "from torch.utils.data import DataLoader\n",
        "from torchvision.datasets import ImageFolder\n",
        "import pandas as pd\n",
        "from torch.utils.data import Dataset\n",
        "from PIL import Image\n",
        "from tqdm import tqdm\n",
        "import numpy as np\n",
        "from torch.utils.data import Dataset, random_split"
      ]
    },
    {
      "cell_type": "code",
      "execution_count": null,
      "metadata": {
        "colab": {
          "base_uri": "https://localhost:8080/"
        },
        "id": "CHYA-KVrc6LU",
        "outputId": "9f76db71-73b8-435c-cb86-e4e4fcf0384d"
      },
      "outputs": [
        {
          "output_type": "stream",
          "name": "stdout",
          "text": [
            "Requirement already satisfied: kaggle in /usr/local/lib/python3.10/dist-packages (1.5.16)\n",
            "Requirement already satisfied: six>=1.10 in /usr/local/lib/python3.10/dist-packages (from kaggle) (1.16.0)\n",
            "Requirement already satisfied: certifi in /usr/local/lib/python3.10/dist-packages (from kaggle) (2023.11.17)\n",
            "Requirement already satisfied: python-dateutil in /usr/local/lib/python3.10/dist-packages (from kaggle) (2.8.2)\n",
            "Requirement already satisfied: requests in /usr/local/lib/python3.10/dist-packages (from kaggle) (2.31.0)\n",
            "Requirement already satisfied: tqdm in /usr/local/lib/python3.10/dist-packages (from kaggle) (4.66.1)\n",
            "Requirement already satisfied: python-slugify in /usr/local/lib/python3.10/dist-packages (from kaggle) (8.0.1)\n",
            "Requirement already satisfied: urllib3 in /usr/local/lib/python3.10/dist-packages (from kaggle) (2.0.7)\n",
            "Requirement already satisfied: bleach in /usr/local/lib/python3.10/dist-packages (from kaggle) (6.1.0)\n",
            "Requirement already satisfied: webencodings in /usr/local/lib/python3.10/dist-packages (from bleach->kaggle) (0.5.1)\n",
            "Requirement already satisfied: text-unidecode>=1.3 in /usr/local/lib/python3.10/dist-packages (from python-slugify->kaggle) (1.3)\n",
            "Requirement already satisfied: charset-normalizer<4,>=2 in /usr/local/lib/python3.10/dist-packages (from requests->kaggle) (3.3.2)\n",
            "Requirement already satisfied: idna<4,>=2.5 in /usr/local/lib/python3.10/dist-packages (from requests->kaggle) (3.6)\n"
          ]
        }
      ],
      "source": [
        "!pip install kaggle\n",
        "# kaggle datasets download -d kmader/skin-cancer-mnist-ham10000"
      ]
    },
    {
      "cell_type": "code",
      "execution_count": null,
      "metadata": {
        "colab": {
          "base_uri": "https://localhost:8080/",
          "height": 108
        },
        "id": "otxjKRFdd4yM",
        "outputId": "7edae3f5-8d41-49c6-bd9c-a37d5bd18139"
      },
      "outputs": [
        {
          "output_type": "display_data",
          "data": {
            "text/plain": [
              "<IPython.core.display.HTML object>"
            ],
            "text/html": [
              "\n",
              "     <input type=\"file\" id=\"files-d8f81315-524d-408e-afab-682672a865b9\" name=\"files[]\" multiple disabled\n",
              "        style=\"border:none\" />\n",
              "     <output id=\"result-d8f81315-524d-408e-afab-682672a865b9\">\n",
              "      Upload widget is only available when the cell has been executed in the\n",
              "      current browser session. Please rerun this cell to enable.\n",
              "      </output>\n",
              "      <script>// Copyright 2017 Google LLC\n",
              "//\n",
              "// Licensed under the Apache License, Version 2.0 (the \"License\");\n",
              "// you may not use this file except in compliance with the License.\n",
              "// You may obtain a copy of the License at\n",
              "//\n",
              "//      http://www.apache.org/licenses/LICENSE-2.0\n",
              "//\n",
              "// Unless required by applicable law or agreed to in writing, software\n",
              "// distributed under the License is distributed on an \"AS IS\" BASIS,\n",
              "// WITHOUT WARRANTIES OR CONDITIONS OF ANY KIND, either express or implied.\n",
              "// See the License for the specific language governing permissions and\n",
              "// limitations under the License.\n",
              "\n",
              "/**\n",
              " * @fileoverview Helpers for google.colab Python module.\n",
              " */\n",
              "(function(scope) {\n",
              "function span(text, styleAttributes = {}) {\n",
              "  const element = document.createElement('span');\n",
              "  element.textContent = text;\n",
              "  for (const key of Object.keys(styleAttributes)) {\n",
              "    element.style[key] = styleAttributes[key];\n",
              "  }\n",
              "  return element;\n",
              "}\n",
              "\n",
              "// Max number of bytes which will be uploaded at a time.\n",
              "const MAX_PAYLOAD_SIZE = 100 * 1024;\n",
              "\n",
              "function _uploadFiles(inputId, outputId) {\n",
              "  const steps = uploadFilesStep(inputId, outputId);\n",
              "  const outputElement = document.getElementById(outputId);\n",
              "  // Cache steps on the outputElement to make it available for the next call\n",
              "  // to uploadFilesContinue from Python.\n",
              "  outputElement.steps = steps;\n",
              "\n",
              "  return _uploadFilesContinue(outputId);\n",
              "}\n",
              "\n",
              "// This is roughly an async generator (not supported in the browser yet),\n",
              "// where there are multiple asynchronous steps and the Python side is going\n",
              "// to poll for completion of each step.\n",
              "// This uses a Promise to block the python side on completion of each step,\n",
              "// then passes the result of the previous step as the input to the next step.\n",
              "function _uploadFilesContinue(outputId) {\n",
              "  const outputElement = document.getElementById(outputId);\n",
              "  const steps = outputElement.steps;\n",
              "\n",
              "  const next = steps.next(outputElement.lastPromiseValue);\n",
              "  return Promise.resolve(next.value.promise).then((value) => {\n",
              "    // Cache the last promise value to make it available to the next\n",
              "    // step of the generator.\n",
              "    outputElement.lastPromiseValue = value;\n",
              "    return next.value.response;\n",
              "  });\n",
              "}\n",
              "\n",
              "/**\n",
              " * Generator function which is called between each async step of the upload\n",
              " * process.\n",
              " * @param {string} inputId Element ID of the input file picker element.\n",
              " * @param {string} outputId Element ID of the output display.\n",
              " * @return {!Iterable<!Object>} Iterable of next steps.\n",
              " */\n",
              "function* uploadFilesStep(inputId, outputId) {\n",
              "  const inputElement = document.getElementById(inputId);\n",
              "  inputElement.disabled = false;\n",
              "\n",
              "  const outputElement = document.getElementById(outputId);\n",
              "  outputElement.innerHTML = '';\n",
              "\n",
              "  const pickedPromise = new Promise((resolve) => {\n",
              "    inputElement.addEventListener('change', (e) => {\n",
              "      resolve(e.target.files);\n",
              "    });\n",
              "  });\n",
              "\n",
              "  const cancel = document.createElement('button');\n",
              "  inputElement.parentElement.appendChild(cancel);\n",
              "  cancel.textContent = 'Cancel upload';\n",
              "  const cancelPromise = new Promise((resolve) => {\n",
              "    cancel.onclick = () => {\n",
              "      resolve(null);\n",
              "    };\n",
              "  });\n",
              "\n",
              "  // Wait for the user to pick the files.\n",
              "  const files = yield {\n",
              "    promise: Promise.race([pickedPromise, cancelPromise]),\n",
              "    response: {\n",
              "      action: 'starting',\n",
              "    }\n",
              "  };\n",
              "\n",
              "  cancel.remove();\n",
              "\n",
              "  // Disable the input element since further picks are not allowed.\n",
              "  inputElement.disabled = true;\n",
              "\n",
              "  if (!files) {\n",
              "    return {\n",
              "      response: {\n",
              "        action: 'complete',\n",
              "      }\n",
              "    };\n",
              "  }\n",
              "\n",
              "  for (const file of files) {\n",
              "    const li = document.createElement('li');\n",
              "    li.append(span(file.name, {fontWeight: 'bold'}));\n",
              "    li.append(span(\n",
              "        `(${file.type || 'n/a'}) - ${file.size} bytes, ` +\n",
              "        `last modified: ${\n",
              "            file.lastModifiedDate ? file.lastModifiedDate.toLocaleDateString() :\n",
              "                                    'n/a'} - `));\n",
              "    const percent = span('0% done');\n",
              "    li.appendChild(percent);\n",
              "\n",
              "    outputElement.appendChild(li);\n",
              "\n",
              "    const fileDataPromise = new Promise((resolve) => {\n",
              "      const reader = new FileReader();\n",
              "      reader.onload = (e) => {\n",
              "        resolve(e.target.result);\n",
              "      };\n",
              "      reader.readAsArrayBuffer(file);\n",
              "    });\n",
              "    // Wait for the data to be ready.\n",
              "    let fileData = yield {\n",
              "      promise: fileDataPromise,\n",
              "      response: {\n",
              "        action: 'continue',\n",
              "      }\n",
              "    };\n",
              "\n",
              "    // Use a chunked sending to avoid message size limits. See b/62115660.\n",
              "    let position = 0;\n",
              "    do {\n",
              "      const length = Math.min(fileData.byteLength - position, MAX_PAYLOAD_SIZE);\n",
              "      const chunk = new Uint8Array(fileData, position, length);\n",
              "      position += length;\n",
              "\n",
              "      const base64 = btoa(String.fromCharCode.apply(null, chunk));\n",
              "      yield {\n",
              "        response: {\n",
              "          action: 'append',\n",
              "          file: file.name,\n",
              "          data: base64,\n",
              "        },\n",
              "      };\n",
              "\n",
              "      let percentDone = fileData.byteLength === 0 ?\n",
              "          100 :\n",
              "          Math.round((position / fileData.byteLength) * 100);\n",
              "      percent.textContent = `${percentDone}% done`;\n",
              "\n",
              "    } while (position < fileData.byteLength);\n",
              "  }\n",
              "\n",
              "  // All done.\n",
              "  yield {\n",
              "    response: {\n",
              "      action: 'complete',\n",
              "    }\n",
              "  };\n",
              "}\n",
              "\n",
              "scope.google = scope.google || {};\n",
              "scope.google.colab = scope.google.colab || {};\n",
              "scope.google.colab._files = {\n",
              "  _uploadFiles,\n",
              "  _uploadFilesContinue,\n",
              "};\n",
              "})(self);\n",
              "</script> "
            ]
          },
          "metadata": {}
        },
        {
          "output_type": "stream",
          "name": "stdout",
          "text": [
            "Saving kaggle.json to kaggle.json\n"
          ]
        },
        {
          "output_type": "execute_result",
          "data": {
            "text/plain": [
              "{'kaggle.json': b'{\"username\":\"vagizyakupov\",\"key\":\"6c99cce562128285009f42f9a99465bf\"}'}"
            ]
          },
          "metadata": {},
          "execution_count": 3
        }
      ],
      "source": [
        "# upload kaggle API\n",
        "from google.colab import files\n",
        "files.upload()"
      ]
    },
    {
      "cell_type": "code",
      "execution_count": null,
      "metadata": {
        "id": "RPI6yn-GeTdl"
      },
      "outputs": [],
      "source": [
        "!mkdir -p ~/.kaggle\n",
        "!cp kaggle.json ~/.kaggle/\n",
        "!chmod 600 ~/.kaggle/kaggle.json"
      ]
    },
    {
      "cell_type": "code",
      "execution_count": null,
      "metadata": {
        "colab": {
          "base_uri": "https://localhost:8080/"
        },
        "id": "RWjmLobjeeVj",
        "outputId": "497f774b-b51d-4887-eca1-635f765a2cd5"
      },
      "outputs": [
        {
          "output_type": "stream",
          "name": "stdout",
          "text": [
            "Downloading skin-cancer-mnist-ham10000.zip to /content\n",
            "100% 5.19G/5.20G [00:44<00:00, 186MB/s]\n",
            "100% 5.20G/5.20G [00:44<00:00, 125MB/s]\n"
          ]
        }
      ],
      "source": [
        "!kaggle datasets download -d kmader/skin-cancer-mnist-ham10000\n",
        "!unzip -q skin-cancer-mnist-ham10000.zip -d data_cancer"
      ]
    },
    {
      "cell_type": "code",
      "source": [
        "import os\n",
        "import shutil\n",
        "\n",
        "# Пути к файлам и папкам\n",
        "csv_file = 'data_cancer/HAM10000_metadata.csv'\n",
        "images_dir = 'data_cancer/HAM10000_images_part_2'\n",
        "\n",
        "# Чтение CSV-файла\n",
        "metadata = pd.read_csv(csv_file)\n",
        "\n",
        "# Перебор строк в DataFrame\n",
        "for index, row in metadata.iterrows():\n",
        "    image_name = row['image_id'] + '.jpg'  # предполагаем, что расширение файлов .jpg\n",
        "    class_name = row['dx']\n",
        "    source_path = os.path.join(images_dir, image_name)\n",
        "    target_dir = os.path.join(images_dir, class_name)\n",
        "\n",
        "    # Проверка наличия файла и перемещение\n",
        "    if os.path.exists(source_path):\n",
        "        os.makedirs(target_dir, exist_ok=True)  # Создание папки класса, если не существует\n",
        "        shutil.move(source_path, os.path.join(target_dir, image_name))\n"
      ],
      "metadata": {
        "id": "0n94yGVbg0h-"
      },
      "execution_count": null,
      "outputs": []
    },
    {
      "cell_type": "code",
      "execution_count": null,
      "metadata": {
        "id": "4nTR5TcOSebz"
      },
      "outputs": [],
      "source": [
        "transform = transforms.Compose([\n",
        "    transforms.Resize(256),\n",
        "    transforms.CenterCrop(224),\n",
        "    transforms.ToTensor(),\n",
        "    transforms.Normalize(mean=[0.485, 0.456, 0.406], std=[0.229, 0.224, 0.225]),\n",
        "])\n",
        "\n",
        "full_dataset = ImageFolder(root='/content/data_cancer/HAM10000_images_part_2', transform=transform)\n",
        "num_classes = len(full_dataset.classes)\n",
        "\n",
        "train_size = int(0.8 * len(full_dataset))\n",
        "valid_size = len(full_dataset) - train_size\n",
        "train_dataset, valid_dataset = random_split(full_dataset, [train_size, valid_size])\n",
        "\n",
        "\n",
        "train_loader = DataLoader(train_dataset, batch_size=32, shuffle=True)\n",
        "valid_loader = DataLoader(valid_dataset, batch_size=32, shuffle=True)"
      ]
    },
    {
      "cell_type": "code",
      "execution_count": null,
      "metadata": {
        "id": "9aby6Bk_01JZ"
      },
      "outputs": [],
      "source": [
        "def google(): # pretrained=True для tensorflow\n",
        "    model = models.googlenet(weights=models.GoogLeNet_Weights.IMAGENET1K_V1)\n",
        "    model.fc = torch.nn.Linear(1024, num_classes)\n",
        "    for param in model.parameters():\n",
        "        param.requires_grad = True\n",
        "    model.inception3a.requires_grad = False\n",
        "    model.inception3b.requires_grad = False\n",
        "    model.inception4a.requires_grad = False\n",
        "    model.inception4b.requires_grad = False\n",
        "    model.inception4c.requires_grad = False\n",
        "    model.inception4d.requires_grad = False\n",
        "    model.inception4e.requires_grad = False\n",
        "    return model"
      ]
    },
    {
      "cell_type": "code",
      "execution_count": null,
      "metadata": {
        "id": "-aI4YGLEHCzl"
      },
      "outputs": [],
      "source": [
        "def train(model, optimizer, train_loader, val_loader, epoch=10):\n",
        "    loss_train, acc_train = [], []\n",
        "    loss_valid, acc_valid = [], []\n",
        "    for epoch in tqdm(range(epoch)):\n",
        "        losses, equals = [], []\n",
        "        torch.set_grad_enabled(True)\n",
        "\n",
        "        # Train.\n",
        "        model.train()\n",
        "        for i, (image, target) in enumerate(train_loader):\n",
        "            image = image.to(device)\n",
        "            target = target.to(device)\n",
        "            output = model(image)\n",
        "            loss = criterion(output,target)\n",
        "\n",
        "            losses.append(loss.item())\n",
        "            equals.extend(\n",
        "                [x.item() for x in torch.argmax(output, 1) == target])\n",
        "\n",
        "            optimizer.zero_grad()\n",
        "            loss.backward()\n",
        "            optimizer.step()\n",
        "        loss_train.append(np.mean(losses))\n",
        "        acc_train.append(np.mean(equals))\n",
        "        losses, equals = [], []\n",
        "        torch.set_grad_enabled(False)\n",
        "\n",
        "        # Validate.\n",
        "        model.eval()\n",
        "        for i , (image, target) in enumerate(valid_loader):\n",
        "            image = image.to(device)\n",
        "            target = target.to(device)\n",
        "\n",
        "            output = model(image)\n",
        "            loss = criterion(output,target)\n",
        "\n",
        "            losses.append(loss.item())\n",
        "            equals.extend(\n",
        "                [y.item() for y in torch.argmax(output, 1) == target])\n",
        "\n",
        "        loss_valid.append(np.mean(losses))\n",
        "        acc_valid.append(np.mean(equals))\n",
        "\n",
        "    return loss_train, acc_train, loss_valid, acc_valid"
      ]
    },
    {
      "cell_type": "code",
      "execution_count": null,
      "metadata": {
        "id": "lTSpN0bQHkZQ"
      },
      "outputs": [],
      "source": [
        "use_gpu = torch.cuda.is_available()\n",
        "device = 'cuda' if use_gpu else 'cpu'"
      ]
    },
    {
      "cell_type": "code",
      "execution_count": null,
      "metadata": {
        "colab": {
          "base_uri": "https://localhost:8080/"
        },
        "id": "ZImavXmqHQfU",
        "outputId": "15a0254b-a5bf-4035-d4c0-f75dd06d243f"
      },
      "outputs": [
        {
          "output_type": "stream",
          "name": "stdout",
          "text": [
            "Model: GoogLeNet\n",
            "\n"
          ]
        },
        {
          "output_type": "stream",
          "name": "stderr",
          "text": [
            "100%|██████████| 30/30 [27:46<00:00, 55.56s/it]"
          ]
        },
        {
          "output_type": "stream",
          "name": "stdout",
          "text": [
            "acc_train: [0.6802093718843469, 0.8163010967098704, 0.9132602193419741, 0.9608673978065803, 0.9860418743768694, 0.9920239282153539, 0.9962612163509471, 0.9900299102691924, 0.984297108673978, 0.9937686939182453, 0.9895314057826521, 0.9925224327018943, 0.9927716849451645, 0.9955134596211366, 0.9967597208374875, 0.9962612163509471, 0.9945164506480558, 0.9977567298105683, 0.9967597208374875, 0.9912761714855434, 0.9940179461615155, 0.9957627118644068, 0.9985044865403788, 0.9985044865403788, 0.998753738783649, 0.9912761714855434, 0.9902791625124626, 0.9932701894317049, 0.9967597208374875, 0.9977567298105683] \n",
            "acc_valid: [0.7497507477567298, 0.7946161515453639, 0.8344965104685942, 0.8295114656031904, 0.839481555333998, 0.8364905284147557, 0.843469591226321, 0.8354935194416749, 0.8334995014955134, 0.8484546360917248, 0.8354935194416749, 0.8344965104685942, 0.8325024925224327, 0.8454636091724825, 0.8364905284147557, 0.8374875373878365, 0.8444666001994018, 0.839481555333998, 0.8454636091724825, 0.8125623130608175, 0.8305084745762712, 0.8344965104685942, 0.8424725822532403, 0.843469591226321, 0.8305084745762712, 0.8085742771684945, 0.7936191425722832, 0.8414755732801595, 0.8364905284147557, 0.8594217347956131]\n"
          ]
        },
        {
          "output_type": "stream",
          "name": "stderr",
          "text": [
            "\n"
          ]
        }
      ],
      "source": [
        "# ОБУЧЕНИЕ НЕ ТЫКАТЬ\n",
        "criterion = torch.nn.CrossEntropyLoss()\n",
        "criterion = criterion.to(device)\n",
        "model = google()\n",
        "print('Model: GoogLeNet\\n')\n",
        "\n",
        "optimizer = torch.optim.Adam(model.parameters(), lr=1e-4)\n",
        "model = model.to(device)\n",
        "\n",
        "loss_train, acc_train, loss_valid, acc_valid = train(\n",
        "model, optimizer, train_loader, valid_loader, 30)\n",
        "print('acc_train:', acc_train, '\\nacc_valid:', acc_valid)"
      ]
    },
    {
      "cell_type": "code",
      "execution_count": null,
      "metadata": {
        "id": "CFS7zoeeSRCQ"
      },
      "outputs": [],
      "source": [
        "# График после обучения не тыкать\n",
        "import matplotlib.pyplot as plt\n",
        "\n",
        "def plot_loss(Loss_train, Loss_val):\n",
        "    plt.figure(figsize=(12, 5))\n",
        "    plt.plot(range(len(Loss_train)), Loss_train, color='orange', label='train', linestyle='--')\n",
        "    plt.plot(range(len(Loss_val)), Loss_val, color='blue', marker='o', label='val')\n",
        "    plt.legend()\n",
        "    plt.show()\n",
        "\n",
        "plot_loss(loss_train, loss_valid)"
      ]
    },
    {
      "cell_type": "code",
      "source": [
        "# Не тыкать\n",
        "torch.save(model, '/content/weights2.pt')"
      ],
      "metadata": {
        "id": "YYp9Laq30BW-"
      },
      "execution_count": null,
      "outputs": []
    },
    {
      "cell_type": "code",
      "source": [
        "def load_and_preprocess_image(image_path):\n",
        "    # Загружаем изображение и преобразуем его\n",
        "    image = Image.open(image_path)\n",
        "    transform = transforms.Compose([\n",
        "    transforms.Resize(256),\n",
        "    transforms.CenterCrop(224),\n",
        "    transforms.ToTensor(),\n",
        "    transforms.Normalize(mean=[0.485, 0.456, 0.406], std=[0.229, 0.224, 0.225]),\n",
        "])\n",
        "    input_tensor = transform(image)\n",
        "    input_batch = input_tensor.unsqueeze(0)  # добавляем размерность пакета\n",
        "\n",
        "    return input_batch\n",
        "\n",
        "def predict_image_class(image_path, model):\n",
        "    # Загружаем и предобрабатываем изображение\n",
        "    input_tensor = load_and_preprocess_image(image_path)\n",
        "\n",
        "    # Перемещаем тензор на GPU, если доступен\n",
        "    device = torch.device(\"cuda\" if torch.cuda.is_available() else \"cpu\")\n",
        "    input_tensor = input_tensor.to(device)\n",
        "    model = model.to(device)\n",
        "\n",
        "    # Переводим модель в режим оценки (eval)\n",
        "    model.eval()\n",
        "\n",
        "    # Проходим изображение через модель\n",
        "    with torch.no_grad():\n",
        "        output = model(input_tensor)\n",
        "\n",
        "    # Получаем предсказание\n",
        "    _, predicted_class = torch.max(output, 1)\n",
        "\n",
        "    return predicted_class.item()"
      ],
      "metadata": {
        "id": "xyXv1cQtHLME"
      },
      "execution_count": null,
      "outputs": []
    },
    {
      "cell_type": "code",
      "source": [
        "predicted_class_name = full_dataset.classes[:]\n",
        "print(predicted_class_name)"
      ],
      "metadata": {
        "colab": {
          "base_uri": "https://localhost:8080/"
        },
        "id": "Vvn0p18QPDp6",
        "outputId": "e42236d9-5138-4a11-9b28-853d4ed3243a"
      },
      "execution_count": null,
      "outputs": [
        {
          "output_type": "stream",
          "name": "stdout",
          "text": [
            "['akiec', 'bcc', 'bkl', 'df', 'mel', 'nv', 'vasc']\n"
          ]
        }
      ]
    },
    {
      "cell_type": "code",
      "source": [
        "weights_path = '/content/weights30.pt'\n",
        "model = torch.load(weights_path)"
      ],
      "metadata": {
        "id": "O3LDVj_66ERR"
      },
      "execution_count": null,
      "outputs": []
    },
    {
      "cell_type": "code",
      "source": [
        "image_path = \"/content/data_cancer/HAM10000_images_part_2/nv/ISIC_0029344.jpg\"\n",
        "def predict_class_image(image_path, model=model):\n",
        "  predicted_class = predict_image_class(image_path, model)\n",
        "  return predicted_class_name[predicted_class]\n",
        "print(f\"Модель предсказывает класс: {predict_class_image(image_path)}\")"
      ],
      "metadata": {
        "colab": {
          "base_uri": "https://localhost:8080/"
        },
        "id": "QoZKgeK5Hnr6",
        "outputId": "d01764a0-a7ce-4467-db32-427e14199c2e"
      },
      "execution_count": null,
      "outputs": [
        {
          "output_type": "stream",
          "name": "stdout",
          "text": [
            "Модель предсказывает класс: nv\n"
          ]
        }
      ]
    },
    {
      "cell_type": "code",
      "source": [
        "\n",
        "def test_model_lul(Patch):\n",
        "  test_dict = {}\n",
        "  folder_path = Patch  # Укажите свой путь к папке\n",
        "\n",
        "  for filename in os.listdir(folder_path):\n",
        "      file_path = os.path.join(folder_path, filename)\n",
        "      if os.path.isfile(file_path):\n",
        "          predicted_class = predict_image_class(file_path, model)\n",
        "          pred = predicted_class_name[predicted_class]\n",
        "          if pred in test_dict.keys():\n",
        "            test_dict[pred] += 1\n",
        "          else:\n",
        "            test_dict[pred] = 0\n",
        "  return test_dict"
      ],
      "metadata": {
        "id": "H2tjCDiIRxk3"
      },
      "execution_count": null,
      "outputs": []
    },
    {
      "cell_type": "code",
      "source": [
        "test_model_lul('/content/data_cancer/HAM10000_images_part_2/nv')"
      ],
      "metadata": {
        "colab": {
          "base_uri": "https://localhost:8080/"
        },
        "id": "5gA2kGudTUFH",
        "outputId": "57cdde1e-6a2f-4d28-8346-792b6d7a91a0"
      },
      "execution_count": null,
      "outputs": [
        {
          "output_type": "execute_result",
          "data": {
            "text/plain": [
              "{'nv': 3238, 'bkl': 13, 'mel': 16, 'bcc': 2, 'vasc': 0}"
            ]
          },
          "metadata": {},
          "execution_count": 17
        }
      ]
    },
    {
      "cell_type": "code",
      "source": [
        "columns = ['pacientID','full name', 'Typeofdisease', 'Cancer']\n",
        "df_doctor = pd.DataFrame(columns=columns)\n",
        "\n",
        "# Функция для заполнения следующей строки\n",
        "def fill_string(values, dataframe):\n",
        "    new_string = pd.Series(values, index=dataframe.columns)\n",
        "    dataframe = pd.concat([dataframe, new_string.to_frame().T], ignore_index=True)\n",
        "    return dataframe"
      ],
      "metadata": {
        "id": "s90fBypvM83p"
      },
      "execution_count": null,
      "outputs": []
    },
    {
      "cell_type": "code",
      "source": [
        "info_dict = {'akies': ['актинический кератоз/болезнь Боуэна L57.0/D04.9', 'предрак', 'дерматолог'],\n",
        "             'bcc': ['базалиома D48', 'рак', 'онколог'],\n",
        "             'bkl': ['доброкачественные поражения, подобные кератозу ', 'ок', 'дома'],\n",
        "             'df': ['дерматофиброма D23.9', 'ок', 'дерматолог'],\n",
        "             'mel': ['меланома D48', 'рак', 'онколог'],\n",
        "             'nv': ['меланоцитарный невус', 'ок', 'дома'],\n",
        "             'vasc': ['сосудистые поражения', 'ок', 'дома']}"
      ],
      "metadata": {
        "id": "MuFWPvwxR0OY"
      },
      "execution_count": null,
      "outputs": []
    },
    {
      "cell_type": "code",
      "source": [
        "def pacient(path):\n",
        "  global df_doctor\n",
        "  pacientID = input('введите ваш id: ')\n",
        "  full_name = input('введите ваше ФИО: ')\n",
        "  disease = predict_class_image(path)\n",
        "  Typeofdisease = info_dict[disease][0]\n",
        "  Cancer_num = info_dict[disease][1]\n",
        "  doctor = info_dict[disease][2]\n",
        "  if Cancer_num == 'рак':\n",
        "    Canser = 2\n",
        "  elif Cancer_num == 'предрак':\n",
        "    Canser = 1\n",
        "  else:\n",
        "    Canser = 0\n",
        "  df_doctor = fill_string([pacientID, full_name, Typeofdisease, Canser], df_doctor)\n",
        "  if doctor == 'дерматолог':\n",
        "    return 'Запишитесь к врачу дерматологу'\n",
        "  if doctor == 'онколог':\n",
        "    return 'Запишитесь к врачу онкологу'\n",
        "  if doctor == 'дома':\n",
        "    return 'У вас все впорядке !'"
      ],
      "metadata": {
        "id": "FQ2Jsw_2M12K"
      },
      "execution_count": null,
      "outputs": []
    },
    {
      "cell_type": "code",
      "source": [
        "path_pacient = '/content/data_cancer/HAM10000_images_part_2/mel/ISIC_0029913.jpg'\n",
        "pacient(path_pacient)"
      ],
      "metadata": {
        "colab": {
          "base_uri": "https://localhost:8080/",
          "height": 70
        },
        "id": "kfLUfCTebNik",
        "outputId": "071e1df5-fba6-4970-e5c5-6610d33f7122"
      },
      "execution_count": null,
      "outputs": [
        {
          "name": "stdout",
          "output_type": "stream",
          "text": [
            "введите ваш id: 1234\n",
            "введите ваше ФИО: Иванов Иван Иванович\n"
          ]
        },
        {
          "output_type": "execute_result",
          "data": {
            "text/plain": [
              "'Запишитесь к врачу онкологу'"
            ],
            "application/vnd.google.colaboratory.intrinsic+json": {
              "type": "string"
            }
          },
          "metadata": {},
          "execution_count": 25
        }
      ]
    },
    {
      "cell_type": "code",
      "source": [
        "print(df_doctor)"
      ],
      "metadata": {
        "colab": {
          "base_uri": "https://localhost:8080/"
        },
        "id": "MtxWqrmabKpr",
        "outputId": "23d33535-f800-485d-a927-5eca4230317f"
      },
      "execution_count": null,
      "outputs": [
        {
          "output_type": "stream",
          "name": "stdout",
          "text": [
            "  pacientID             full name Typeofdisease Cancer\n",
            "0      1234  Иванов Иван Иванович  меланома D48      2\n"
          ]
        }
      ]
    },
    {
      "cell_type": "code",
      "source": [
        "import torch.nn.functional as F\n",
        "# Функция для классификации изображения\n",
        "\n",
        "def classify_image(image_path, model):\n",
        "    input_tensor = load_and_preprocess_image(image_path)\n",
        "    device = torch.device(\"cuda\" if torch.cuda.is_available() else \"cpu\")\n",
        "    input_tensor = input_tensor.to(device)\n",
        "    # Передача изображения через модель\n",
        "    with torch.no_grad():\n",
        "        output = model(input_tensor)\n",
        "\n",
        "    # Получение предсказанного класса\n",
        "    _, predicted_class = torch.max(output, 1)\n",
        "    probabilities = F.softmax(output, dim=1)\n",
        "\n",
        "    return predicted_class.item(), probabilities\n",
        "# Загрузка обученной модели\n",
        "weights_path = '/content/weights30.pt'\n",
        "model = torch.load(weights_path)\n",
        "\n",
        "# Путь к папке с изображениями для классификации\n",
        "folder_path = '/content/data_cancer/ham10000_images_part_1'\n",
        "\n",
        "predicted_class_name = ['akiec', 'bcc', 'bkl', 'df', 'mel', 'nv', 'vasc']\n",
        "# Создание списка предсказаний\n",
        "predictions = []\n",
        "\n",
        "# Классификация изображений в папке\n",
        "for filename in os.listdir(folder_path):\n",
        "    image_path = os.path.join(folder_path, filename)\n",
        "    if os.path.isfile(image_path):\n",
        "        predicted_class, probabilities = classify_image(image_path, model)\n",
        "        image_id = filename.split('.')[0]\n",
        "        predictions.append((image_id, predicted_class_name[predicted_class]))\n",
        "\n",
        "# Создание DataFrame из списка предсказаний\n",
        "predictions_df = pd.DataFrame(predictions, columns=['image_id', 'predict'])\n"
      ],
      "metadata": {
        "id": "c10HhDYO2wM_"
      },
      "execution_count": null,
      "outputs": []
    },
    {
      "cell_type": "code",
      "source": [
        "metadata = pd.read_csv(csv_file)"
      ],
      "metadata": {
        "id": "8XaQrLZPAmxa"
      },
      "execution_count": null,
      "outputs": []
    },
    {
      "cell_type": "code",
      "source": [
        "# Объединение с исходным DataFrame 'metadata' по столбцу 'image_id'\n",
        "metadata = metadata.merge(predictions_df, on='image_id', how='left')\n",
        "# Очистка от NaN\n",
        "metadata_cleaned = metadata.dropna(subset=['dx', 'predict'])\n",
        "\n",
        "# Добавление столбца 'is_True'\n",
        "metadata_cleaned['is_True'] = (metadata_cleaned['dx'] == metadata_cleaned['predict']).astype(int)\n",
        "\n",
        "# Создание нового DataFrame 'result'\n",
        "result = metadata_cleaned[['dx', 'predict', 'is_True']].copy()\n"
      ],
      "metadata": {
        "colab": {
          "base_uri": "https://localhost:8080/"
        },
        "id": "VFx3bg4A_tYO",
        "outputId": "56e59c51-9e9b-4a3b-8d18-03b1eece5c83"
      },
      "execution_count": null,
      "outputs": [
        {
          "output_type": "stream",
          "name": "stderr",
          "text": [
            "<ipython-input-29-0467e8446385>:7: SettingWithCopyWarning: \n",
            "A value is trying to be set on a copy of a slice from a DataFrame.\n",
            "Try using .loc[row_indexer,col_indexer] = value instead\n",
            "\n",
            "See the caveats in the documentation: https://pandas.pydata.org/pandas-docs/stable/user_guide/indexing.html#returning-a-view-versus-a-copy\n",
            "  metadata_cleaned['is_True'] = (metadata_cleaned['dx'] == metadata_cleaned['predict']).astype(int)\n"
          ]
        }
      ]
    },
    {
      "cell_type": "code",
      "source": [
        "statistics = result['is_True'].value_counts()\n",
        "total_rows = len(result)\n",
        "is_True_result = (statistics.iloc[1]/(statistics.iloc[0]+statistics.iloc[1])) * 100\n",
        "print(f'Модель на не зависимых данных cделала  {(100 - round(is_True_result,2))} % верных прогнозов.')"
      ],
      "metadata": {
        "colab": {
          "base_uri": "https://localhost:8080/"
        },
        "id": "DzqBdPMv--NJ",
        "outputId": "c7d0efc0-57ef-4812-ec6f-85e7656a1b59"
      },
      "execution_count": null,
      "outputs": [
        {
          "output_type": "stream",
          "name": "stdout",
          "text": [
            "Модель на не зависимых данных cделала  82.62 % верных прогнозов.\n"
          ]
        }
      ]
    },
    {
      "cell_type": "code",
      "source": [
        "!python --version"
      ],
      "metadata": {
        "colab": {
          "base_uri": "https://localhost:8080/"
        },
        "id": "cMvkPTagTxO7",
        "outputId": "4a425508-8157-47f2-9703-9a2717a59812"
      },
      "execution_count": null,
      "outputs": [
        {
          "output_type": "stream",
          "name": "stdout",
          "text": [
            "Python 3.10.12\n"
          ]
        }
      ]
    },
    {
      "cell_type": "code",
      "source": [],
      "metadata": {
        "id": "5QD14ApoU2TR"
      },
      "execution_count": null,
      "outputs": []
    }
  ],
  "metadata": {
    "accelerator": "GPU",
    "colab": {
      "provenance": [],
      "gpuType": "T4",
      "include_colab_link": true
    },
    "kernelspec": {
      "display_name": "Python 3",
      "name": "python3"
    },
    "language_info": {
      "name": "python"
    }
  },
  "nbformat": 4,
  "nbformat_minor": 0
}